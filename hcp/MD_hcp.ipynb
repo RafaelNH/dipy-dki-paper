{
 "cells": [
  {
   "cell_type": "code",
   "execution_count": 1,
   "metadata": {},
   "outputs": [],
   "source": [
    "import pandas as pd\n",
    "import numpy as np\n",
    "import matplotlib.pyplot as plt"
   ]
  },
  {
   "cell_type": "code",
   "execution_count": 2,
   "metadata": {},
   "outputs": [],
   "source": [
    "import matplotlib as mpl\n",
    "mpl.rcParams['font.size'] = 14"
   ]
  },
  {
   "cell_type": "code",
   "execution_count": 3,
   "metadata": {},
   "outputs": [
    {
     "name": "stderr",
     "output_type": "stream",
     "text": [
      "/Users/arokem/miniconda3/envs/afq/lib/python3.8/site-packages/dask/config.py:168: YAMLLoadWarning: calling yaml.load() without Loader=... is deprecated, as the default Loader is unsafe. Please read https://msg.pyyaml.org/load for full details.\n",
      "  data = yaml.load(f.read()) or {}\n",
      "/Users/arokem/miniconda3/envs/afq/lib/python3.8/site-packages/dask/dataframe/utils.py:13: FutureWarning: pandas.util.testing is deprecated. Use the functions in the public API at pandas.testing instead.\n",
      "  import pandas.util.testing as tm\n",
      "INFO:botocore.credentials:Found credentials in shared credentials file: ~/.aws/credentials\n"
     ]
    }
   ],
   "source": [
    "import s3fs \n",
    "import AFQ.data as afd\n",
    "fs = s3fs.S3FileSystem()"
   ]
  },
  {
   "cell_type": "code",
   "execution_count": 4,
   "metadata": {},
   "outputs": [],
   "source": [
    "import os.path as op"
   ]
  },
  {
   "cell_type": "code",
   "execution_count": 5,
   "metadata": {},
   "outputs": [],
   "source": [
    "ll = fs.ls(\"hcp.dki/derivatives/dki1000_3000\")"
   ]
  },
  {
   "cell_type": "code",
   "execution_count": 6,
   "metadata": {},
   "outputs": [],
   "source": [
    "subjects = [ff.split('-')[1] for ff in ll]"
   ]
  },
  {
   "cell_type": "code",
   "execution_count": 7,
   "metadata": {},
   "outputs": [
    {
     "data": {
      "text/plain": [
       "1064"
      ]
     },
     "execution_count": 7,
     "metadata": {},
     "output_type": "execute_result"
    }
   ],
   "source": [
    "len(subjects)"
   ]
  },
  {
   "cell_type": "code",
   "execution_count": 8,
   "metadata": {},
   "outputs": [],
   "source": [
    "subject = subjects[-1]"
   ]
  },
  {
   "cell_type": "code",
   "execution_count": 9,
   "metadata": {},
   "outputs": [
    {
     "data": {
      "text/plain": [
       "'996782'"
      ]
     },
     "execution_count": 9,
     "metadata": {},
     "output_type": "execute_result"
    }
   ],
   "source": [
    "subject"
   ]
  },
  {
   "cell_type": "code",
   "execution_count": 10,
   "metadata": {},
   "outputs": [],
   "source": [
    "bucket = 'hcp.dki'"
   ]
  },
  {
   "cell_type": "code",
   "execution_count": 11,
   "metadata": {},
   "outputs": [],
   "source": [
    "remote_dti1000_path =\\\n",
    "    \"%s/derivatives/dti1000\" % (bucket)\n",
    "\n",
    "remote_dti1000_2000_path =\\\n",
    "    \"%s/derivatives/dti1000_2000\" % (bucket)\n",
    "\n",
    "remote_dki1000_2000_path =\\\n",
    "    \"%s/derivatives/dki1000_2000\" % (bucket)\n",
    "\n",
    "remote_dki2000_3000_path =\\\n",
    "    \"%s/derivatives/dki2000_3000\" % (bucket)\n",
    "\n",
    "remote_dki1000_3000_path =\\\n",
    "    \"%s/derivatives/dki1000_3000\" % (bucket)\n"
   ]
  },
  {
   "cell_type": "code",
   "execution_count": 12,
   "metadata": {},
   "outputs": [],
   "source": [
    "# !rm reliability_comparison_md.csv"
   ]
  },
  {
   "cell_type": "code",
   "execution_count": 13,
   "metadata": {
    "scrolled": true
   },
   "outputs": [],
   "source": [
    "reliability_table = \"reliability_comparison_md.csv\"\n",
    "\n",
    "if not op.exists(reliability_table):\n",
    "    mad_dti = []\n",
    "    med_dti = []\n",
    "    mad_dki = []\n",
    "    med_dki = []\n",
    "\n",
    "    for subject in subjects:\n",
    "        print(subject)\n",
    "        rpath = op.join(remote_dti1000_path, f'sub-{subject}', 'ses-01', 'dwi',\n",
    "                                f'sub-{subject}_dwi_model-DTI_MD.nii.gz')\n",
    "\n",
    "        img_md1000 = afd.s3fs_nifti_read(rpath)\n",
    "\n",
    "        rpath = op.join(remote_dti1000_2000_path, f'sub-{subject}', 'ses-01', 'dwi',\n",
    "                                f'sub-{subject}_dwi_model-DTI_MD.nii.gz')\n",
    "\n",
    "        img_md1000_2000 = afd.s3fs_nifti_read(rpath)\n",
    "\n",
    "        md1000 = img_md1000.get_fdata()\n",
    "\n",
    "        md1000_2000 = img_md1000_2000.get_fdata()\n",
    "\n",
    "        img_wm_mask =  afd.s3fs_nifti_read(f's3://hcp.dki/derivatives/wm_mask/sub-{subject}/ses-01/dwi/sub-{subject}_dwi_wm_mask.nii.gz')\n",
    "\n",
    "        data_wm_mask = img_wm_mask.get_fdata().astype(bool)\n",
    "\n",
    "        md1000_wm = md1000[data_wm_mask]\n",
    "        md1000_2000_wm = md1000_2000[data_wm_mask]\n",
    "\n",
    "        rpath = op.join(remote_dki1000_2000_path, f'sub-{subject}', 'ses-01', 'dwi',\n",
    "                        f'sub-{subject}_dwi_model-DKI_MD.nii.gz')\n",
    "\n",
    "        img_dki_md1000_2000 = afd.s3fs_nifti_read(rpath)\n",
    "\n",
    "        rpath = op.join(remote_dki1000_3000_path, f'sub-{subject}', 'ses-01', 'dwi',\n",
    "                        f'sub-{subject}_dwi_model-DKI_MD.nii.gz')\n",
    "\n",
    "        img_dki_md1000_3000 = afd.s3fs_nifti_read(rpath)\n",
    "\n",
    "        dki_md1000_3000 = img_dki_md1000_3000.get_fdata()\n",
    "\n",
    "        dki_md1000_2000 = img_dki_md1000_2000.get_fdata()\n",
    "\n",
    "        dki_md1000_2000_wm = dki_md1000_2000[data_wm_mask]\n",
    "        dki_md1000_3000_wm = dki_md1000_3000[data_wm_mask]\n",
    "        diff_dti = md1000_wm - md1000_2000_wm\n",
    "        diff_dki = dki_md1000_3000_wm - dki_md1000_2000_wm \n",
    "        mad_dti.append(np.median(np.abs(diff_dti)))\n",
    "        med_dti.append(np.median(diff_dti))\n",
    "        mad_dki.append(np.median(np.abs(diff_dki)))\n",
    "        med_dki.append(np.median(diff_dki))\n",
    "        \n",
    "    mad_df = pd.DataFrame(data=dict(subjects=subjects, \n",
    "                            mad_dti=mad_dti, \n",
    "                            med_dti=med_dti, \n",
    "                            mad_dki=mad_dki,\n",
    "                            med_dki=med_dki))\n",
    "\n",
    "    mad_df.to_csv(reliability_table)\n",
    "    np.savez('reliability_variables_md.npz',\n",
    "             diff_dki=diff_dki,\n",
    "             diff_dti=diff_dti,\n",
    "             mad_dti=mad_dti, \n",
    "             med_dti=med_dti, \n",
    "             mad_dki=mad_dki,\n",
    "             med_dki=med_dki\n",
    "            )\n",
    "else:\n",
    "    mad_df = pd.read_csv(reliability_table)\n",
    "    with np.load('reliability_variables_md.npz') as data:\n",
    "        diff_dti=data['diff_dti']\n",
    "        diff_dki=data['diff_dki']\n",
    "        mad_dti = data['mad_dti']\n",
    "        med_dti = data['med_dti']\n",
    "        mad_dki = data['mad_dki']\n",
    "        med_dki = data['med_dki']"
   ]
  },
  {
   "cell_type": "code",
   "execution_count": 20,
   "metadata": {},
   "outputs": [
    {
     "data": {
      "image/png": "[encoded data removed]",
      "text/plain": [
       "<Figure size 417.6x417.6 with 1 Axes>"
      ]
     },
     "metadata": {
      "needs_background": "light"
     },
     "output_type": "display_data"
    }
   ],
   "source": [
    "fig, ax = plt.subplots()\n",
    "ax.hist(diff_dti, histtype='step', bins=200, label=\"DTI\")\n",
    "ax.hist(-diff_dki, histtype='step', bins=200, label=\"DKI\")\n",
    "ax.set_xlim([-0.0003, 0.0003])\n",
    "ylims = ax.get_ylim()\n",
    "ax.vlines(np.median(diff_dti), *ylims, color='k', linestyle='--')\n",
    "ax.vlines(-np.median(diff_dki), *ylims, color='k', linestyle='--')\n",
    "ax.set_ylim(ylims)\n",
    "ax.set_xlabel(\"$\\Delta MD$\")\n",
    "ax.set_ylabel(\"Number of voxels\")\n",
    "ax.set_box_aspect(1)\n",
    "ax.ticklabel_format(axis=\"x\", style='sci', scilimits=[0, 2])\n",
    "\n",
    "plt.legend()\n",
    "fig.set_size_inches([5.8, 5.8])\n",
    "fig.set_tight_layout(True)\n",
    "fig.savefig(\"single_subject_reliability_md.png\")"
   ]
  },
  {
   "cell_type": "code",
   "execution_count": 15,
   "metadata": {},
   "outputs": [],
   "source": [
    "mad_df = pd.DataFrame(data=dict(subjects=subjects, \n",
    "                                mad_dti=mad_dti, \n",
    "                                med_dti=med_dti, \n",
    "                                mad_dki=mad_dki,\n",
    "                                med_dki=-np.array(med_dki)))\n"
   ]
  },
  {
   "cell_type": "code",
   "execution_count": 16,
   "metadata": {},
   "outputs": [],
   "source": [
    "import seaborn as sns"
   ]
  },
  {
   "cell_type": "code",
   "execution_count": 17,
   "metadata": {},
   "outputs": [],
   "source": [
    "#plt.plot(mad_dti, med_dti, '.')"
   ]
  },
  {
   "cell_type": "code",
   "execution_count": 23,
   "metadata": {},
   "outputs": [
    {
     "data": {
      "image/png": "[encoded data removed]",
      "text/plain": [
       "<Figure size 432x432 with 3 Axes>"
      ]
     },
     "metadata": {
      "needs_background": "light"
     },
     "output_type": "display_data"
    },
    {
     "data": {
      "image/png": "[encoded data removed]",
      "text/plain": [
       "<Figure size 432x432 with 3 Axes>"
      ]
     },
     "metadata": {
      "needs_background": "light"
     },
     "output_type": "display_data"
    }
   ],
   "source": [
    "#fig, ax = plt.subplots(1,2)\n",
    "pp = sns.jointplot(data=mad_df, x=\"mad_dti\", y=\"mad_dki\", alpha=0.2)\n",
    "pp.ax_joint.set_xlabel(\"MAD (DTI MD)\")\n",
    "pp.ax_joint.set_ylabel(\"MAD (DKI MD)\")\n",
    "pp.ax_joint.set_xlim([0, 0.000140])\n",
    "pp.ax_joint.set_ylim([0, 0.000140])\n",
    "pp.ax_joint.plot([0, 0.000140], [0, 0.000140], 'k--')\n",
    "#pp.ax_joint.text(0.1, 0.9, 'B', horizontalalignment='center',verticalalignment='center', transform=pp.ax_joint.transAxes, fontsize=20)\n",
    "pp.ax_joint.ticklabel_format(style='sci', scilimits=[0, 2])\n",
    "pp.fig.savefig(\"hcp_reliability_md_mad.svg\")\n",
    "\n",
    "\n",
    "\n",
    "pp = sns.jointplot(data=mad_df, x=\"med_dti\", y=\"med_dki\", alpha=0.2)\n",
    "pp.ax_joint.set_xlabel(\"MED (DTI MD)\")\n",
    "pp.ax_joint.set_ylabel(\"MED (DKI MD)\")\n",
    "# pp.ax_joint.set_xlim([-0.01, 0.05])\n",
    "# pp.ax_joint.set_ylim([-0.01, 0.05])\n",
    "pp.ax_joint.plot([0, 0.00012], [0, 0.00012], 'k--')\n",
    "# pp.ax_joint.hlines(0, 0, 0.00012, color='k', linestyle='--')\n",
    "# pp.ax_joint.vlines(0, 0, 0.00012, color='k', linestyle='--')\n",
    "#pp.ax_joint.text(0.1, 0.9, 'C', horizontalalignment='center',verticalalignment='center', transform=pp.ax_joint.transAxes, fontsize=20)\n",
    "pp.ax_joint.ticklabel_format(style='sci', scilimits=[0, 2])\n",
    "pp.fig.savefig(\"hcp_reliability_md_med.svg\")"
   ]
  },
  {
   "cell_type": "code",
   "execution_count": 21,
   "metadata": {},
   "outputs": [],
   "source": [
    "!open ."
   ]
  },
  {
   "cell_type": "code",
   "execution_count": null,
   "metadata": {},
   "outputs": [],
   "source": []
  }
 ],
 "metadata": {
  "kernelspec": {
   "display_name": "Python 3",
   "language": "python",
   "name": "python3"
  },
  "language_info": {
   "codemirror_mode": {
    "name": "ipython",
    "version": 3
   },
   "file_extension": ".py",
   "mimetype": "text/x-python",
   "name": "python",
   "nbconvert_exporter": "python",
   "pygments_lexer": "ipython3",
   "version": "3.8.5"
  }
 },
 "nbformat": 4,
 "nbformat_minor": 4
}
