{
 "cells": [
  {
   "cell_type": "code",
   "execution_count": 1,
   "metadata": {},
   "outputs": [],
   "source": [
    "import cloudknot as ck"
   ]
  },
  {
   "cell_type": "code",
   "execution_count": 2,
   "metadata": {},
   "outputs": [],
   "source": [
    "def dki_dti_cod(params):\n",
    "    subject, hcp_ak, hcp_sk = params\n",
    "    import numpy as np\n",
    "    import pandas as pd\n",
    "    import s3fs\n",
    "    import json\n",
    "    import logging\n",
    "    import os.path as op\n",
    "    import nibabel as nib\n",
    "    import dipy.reconst.dti as dti\n",
    "    import dipy.reconst.dki as dki\n",
    "    import dipy.core.gradients as dpg\n",
    "    import dipy.reconst.cross_validation as xval\n",
    "    \n",
    "    import AFQ.data as afd \n",
    "    import AFQ.registration as reg\n",
    "    logging.basicConfig(level=logging.INFO)\n",
    "    log = logging.getLogger(__name__)    \n",
    "    \n",
    "    log.info(f\"Fetching HCP subject {subject}\")\n",
    "    afd.fetch_hcp([subject], \n",
    "                  profile_name=False,\n",
    "                  aws_access_key_id=hcp_ak,\n",
    "                  aws_secret_access_key=hcp_sk)    \n",
    "        \n",
    "    dwi_dir = op.join(afd.afq_home, 'HCP', 'derivatives',\n",
    "                      'dmriprep', f'sub-{subject}', 'sess-01/dwi')\n",
    "\n",
    "    anat_dir = op.join(afd.afq_home, 'HCP', 'derivatives',\n",
    "                      'dmriprep', f'sub-{subject}', 'sess-01/anat')\n",
    "\n",
    "    hardi_fdata = op.join(dwi_dir, f\"sub-{subject}_dwi.nii.gz\")\n",
    "    hardi_fbval = op.join(dwi_dir, f\"sub-{subject}_dwi.bval\")\n",
    "    hardi_fbvec = op.join(dwi_dir, f\"sub-{subject}_dwi.bvec\")\n",
    "    \n",
    "    log.info(f\"Reading data from file {hardi_fdata}\")\n",
    "    dwi_img = nib.load(hardi_fdata)\n",
    "    dwi_data = dwi_img.get_fdata()\n",
    "\n",
    "    log.info(f\"Creating gradient table from {hardi_fbval} and {hardi_fbvec}\")\n",
    "    gtab = dpg.gradient_table(hardi_fbval, hardi_fbvec)\n",
    "    \n",
    "    bucket_name = 'dipy.dki.hcp'\n",
    "    fs = s3fs.S3FileSystem()\n",
    "    \n",
    "    wm_mask_fname = f'{bucket_name}/sub-{subject}/sub-{subject}_wm_mask.nii.gz'\n",
    "    if fs.exists(wm_mask_fname):\n",
    "        log.info(f\"WM mask exists. Reading from {wm_mask_fname}\")\n",
    "        wm_img = afd.s3fs_nifti_read(wm_mask_fname)\n",
    "        wm_mask = wm_img.get_data()\n",
    "    else:\n",
    "        log.info(f\"Calculating WM segmentation\")\n",
    "        wm_labels=[250, 251, 252, 253, 254, 255, 41, 2, 16, 77]\n",
    "        seg_img = nib.load(op.join(anat_dir, f\"sub-{subject}_aparc+aseg.nii.gz\"))\n",
    "        seg_data_orig = seg_img.get_fdata()\n",
    "        # For different sets of labels, extract all the voxels that\n",
    "        # have any of these values:\n",
    "        wm_mask = np.sum(np.concatenate([(seg_data_orig == l)[..., None]\n",
    "                                        for l in wm_labels], -1), -1)\n",
    "\n",
    "        # Resample to DWI data:\n",
    "        wm_mask = np.round(reg.resample(wm_mask, \n",
    "                                        dwi_data[..., 0],\n",
    "                                        seg_img.affine,\n",
    "                                        dwi_img.affine)).astype(int)\n",
    "\n",
    "        wm_img = nib.Nifti1Image(wm_mask.astype(int),\n",
    "                                 dwi_img.affine)\n",
    "        log.info(f\"Saving to {wm_mask_fname}\")\n",
    "        afd.s3fs_nifti_write(wm_img, wm_mask_fname)\n",
    "        \n",
    "    for model_object, method in zip([dti.TensorModel, dki.DiffusionKurtosisModel],\n",
    "                                    ['dti', 'dki']):\n",
    "        cod_fname = f'{bucket_name}/sub-{subject}/sub-{subject}_model-{method}_desc-cod.nii.gz'\n",
    "        if fs.exists(cod_fname):\n",
    "            log.info(f\"{method} COD file alread exists. Skipping\")\n",
    "        else:\n",
    "            log.info(f\"Calculating {method}\")\n",
    "            model = model_object(gtab)\n",
    "            pred = xval.kfold_xval(model, dwi_data, 5, mask=wm_mask)\n",
    "            cod = xval.coeff_of_determination(pred, dwi_data)\n",
    "            cod_img = nib.Nifti1Image(cod, dwi_img.affine)\n",
    "            log.info(f\"Writing COD to {cod_fname}\")\n",
    "            afd.s3fs_nifti_write(cod_img, cod_fname)"
   ]
  },
  {
   "cell_type": "code",
   "execution_count": 3,
   "metadata": {},
   "outputs": [],
   "source": [
    "import configparser\n",
    "import os.path as op"
   ]
  },
  {
   "cell_type": "code",
   "execution_count": 4,
   "metadata": {},
   "outputs": [],
   "source": [
    "CP = configparser.ConfigParser()\n",
    "CP.read_file(open(op.join(op.expanduser('~'), '.aws', 'credentials')))\n",
    "CP.sections()\n",
    "ak = CP.get('hcp', 'AWS_ACCESS_KEY_ID')\n",
    "sk = CP.get('hcp', 'AWS_SECRET_ACCESS_KEY')"
   ]
  },
  {
   "cell_type": "code",
   "execution_count": 5,
   "metadata": {
    "scrolled": false
   },
   "outputs": [],
   "source": [
    "hcp_dki_dti_knot = ck.Knot(name='hcp_dki_dti_20200318_09',\n",
    "                           func=dki_dti_cod,\n",
    "                           base_image='python:3.7',\n",
    "                           image_github_installs=\"https://github.com/yeatmanlab/pyAFQ.git@0.2\",\n",
    "                           pars_policies=('AmazonS3FullAccess',),\n",
    "                           resource_type=\"SPOT\",\n",
    "                           bid_percentage=100,\n",
    "                           memory=64000)"
   ]
  },
  {
   "cell_type": "code",
   "execution_count": 6,
   "metadata": {},
   "outputs": [],
   "source": [
    "subjects = [100206,\n",
    "            100307\n",
    "           ]"
   ]
  },
  {
   "cell_type": "code",
   "execution_count": 7,
   "metadata": {},
   "outputs": [],
   "source": [
    "result = hcp_dki_dti_knot.map([(s, ak, sk) for s in subjects])"
   ]
  },
  {
   "cell_type": "code",
   "execution_count": 8,
   "metadata": {},
   "outputs": [],
   "source": [
    "j0 = hcp_dki_dti_knot.jobs[0]"
   ]
  },
  {
   "cell_type": "code",
   "execution_count": 11,
   "metadata": {},
   "outputs": [
    {
     "data": {
      "text/plain": [
       "{'status': 'SUCCEEDED',\n",
       " 'statusReason': None,\n",
       " 'attempts': [],\n",
       " 'arrayProperties': {'statusSummary': {'STARTING': 0,\n",
       "   'FAILED': 0,\n",
       "   'RUNNING': 0,\n",
       "   'SUCCEEDED': 2,\n",
       "   'RUNNABLE': 0,\n",
       "   'SUBMITTED': 0,\n",
       "   'PENDING': 0},\n",
       "  'size': 2}}"
      ]
     },
     "execution_count": 11,
     "metadata": {},
     "output_type": "execute_result"
    }
   ],
   "source": [
    "j0.status"
   ]
  },
  {
   "cell_type": "code",
   "execution_count": 10,
   "metadata": {},
   "outputs": [],
   "source": [
    "# hcp_dki_dti_knot.clobber()"
   ]
  },
  {
   "cell_type": "code",
   "execution_count": null,
   "metadata": {},
   "outputs": [],
   "source": []
  }
 ],
 "metadata": {
  "kernelspec": {
   "display_name": "Python 3",
   "language": "python",
   "name": "python3"
  },
  "language_info": {
   "codemirror_mode": {
    "name": "ipython",
    "version": 3
   },
   "file_extension": ".py",
   "mimetype": "text/x-python",
   "name": "python",
   "nbconvert_exporter": "python",
   "pygments_lexer": "ipython3",
   "version": "3.8.5"
  }
 },
 "nbformat": 4,
 "nbformat_minor": 4
}
