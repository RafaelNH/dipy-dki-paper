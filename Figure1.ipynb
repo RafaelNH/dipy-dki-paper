{
 "cells": [
  {
   "cell_type": "markdown",
   "metadata": {},
   "source": [
    "Load relevant modules"
   ]
  },
  {
   "cell_type": "code",
   "execution_count": 1,
   "metadata": {},
   "outputs": [],
   "source": [
    "import numpy as np\n",
    "import matplotlib.pyplot as plt\n",
    "from dipy.core.sphere import disperse_charges, HemiSphere\n",
    "from dipy.sims.voxel import (multi_tensor_dki, single_tensor, multi_tensor, \n",
    "                             _check_directions, all_tensor_evecs)\n",
    "from dipy.data import (get_fnames, get_sphere)\n",
    "from dipy.io.gradients import read_bvals_bvecs\n",
    "from dipy.core.gradients import gradient_table\n",
    "from dipy.reconst.dti import (decompose_tensor, from_lower_triangular)\n",
    "from dipy.sims.voxel import add_noise\n",
    "from dipy.data import get_sphere\n",
    "from dipy.reconst.dti import fractional_anisotropy\n",
    "from dipy.viz import window, actor\n",
    "import dipy.reconst.dki as dki\n",
    "import dipy.reconst.msdki as msdki\n",
    "sphere = get_sphere('repulsion724')"
   ]
  },
  {
   "cell_type": "markdown",
   "metadata": {},
   "source": [
    "Define gradient table"
   ]
  },
  {
   "cell_type": "code",
   "execution_count": 2,
   "metadata": {},
   "outputs": [],
   "source": [
    "fraw, fbval, fbvec, t1_fname = get_fnames('cfin_multib')\n",
    "bvals, bvecs = read_bvals_bvecs(fbval, fbvec)\n",
    "gtab = gradient_table(bvals, bvecs)"
   ]
  },
  {
   "cell_type": "markdown",
   "metadata": {},
   "source": [
    "# Voxel Case 1 (Single Tensor)"
   ]
  },
  {
   "cell_type": "markdown",
   "metadata": {},
   "source": [
    "Define diffusivities of voxel case 1"
   ]
  },
  {
   "cell_type": "code",
   "execution_count": 3,
   "metadata": {},
   "outputs": [],
   "source": [
    "eval1 = [1.7e-3, 0.3e-3, 0.3e-3];\n",
    "angle = [(130.0, 0.0)]\n",
    "stick = _check_directions(angle)\n",
    "evec1 = all_tensor_evecs(stick[0])"
   ]
  },
  {
   "cell_type": "markdown",
   "metadata": {},
   "source": [
    "Plot diffusion tensor of voxel case 1"
   ]
  },
  {
   "cell_type": "code",
   "execution_count": 4,
   "metadata": {},
   "outputs": [],
   "source": [
    "evals = np.array([[[eval1]]])\n",
    "evecs = np.array([[[evec1]]])\n",
    "\n",
    "# colors\n",
    "color1 = np.zeros(evals.shape)\n",
    "color1[0, 0, 0, 0] = 1;  #red\n",
    "\n",
    "ren = window.Renderer()\n",
    "\n",
    "tensor_actor = actor.tensor_slicer(evals, evecs, scalar_colors=color1, sphere=sphere, scale=1)\n",
    "tensor_actor.display(y=0)\n",
    "tensor_actor.RotateX(90)\n",
    "ren.add(tensor_actor)\n",
    "\n",
    "window.record(ren, n_frames=1, out_path='case1.png', size=(600, 600))"
   ]
  },
  {
   "cell_type": "markdown",
   "metadata": {},
   "source": [
    "Generate signal"
   ]
  },
  {
   "cell_type": "code",
   "execution_count": 5,
   "metadata": {},
   "outputs": [],
   "source": [
    "signal1 = single_tensor(gtab, S0=1, evals=eval1, evecs=evec1, snr=None)"
   ]
  },
  {
   "cell_type": "markdown",
   "metadata": {},
   "source": [
    "# Voxel Case 2 (Intra - and extra-cellular Tensor)"
   ]
  },
  {
   "cell_type": "code",
   "execution_count": 6,
   "metadata": {},
   "outputs": [],
   "source": [
    "eval1 = [1e-3, 0.1e-3, 0.1e-3]\n",
    "eval2 = [2e-3, 0.6e-3, 0.6e-3]\n",
    "angle1 = (130.0, 0.0)\n",
    "angle2 = (130.0, 0.0)\n",
    "stick1 = _check_directions([angle1])\n",
    "stick2 = _check_directions([angle2])\n",
    "evec1 = all_tensor_evecs(stick1[0])\n",
    "evec2 = all_tensor_evecs(stick2[0])"
   ]
  },
  {
   "cell_type": "code",
   "execution_count": 7,
   "metadata": {},
   "outputs": [],
   "source": [
    "evals = np.array([[[eval1, eval2]]])\n",
    "evecs =  np.array([[[evec1, evec2]]])\n",
    "\n",
    "colors = np.zeros(evals.shape)\n",
    "colors[0, 0, 0, 2] = 1;  # blue\n",
    "colors[0, 0, 1, 0] = 1;  # yellow\n",
    "colors[0, 0, 1, 1] = 1;  \n",
    "\n",
    "ren = window.Renderer()\n",
    "\n",
    "FA = fractional_anisotropy(evals)\n",
    "tensor_actor = actor.tensor_slicer(evals, evecs, scalar_colors=colors, sphere=sphere, scale=1)\n",
    "tensor_actor.display(y=0)\n",
    "tensor_actor.RotateX(90)\n",
    "ren.add(tensor_actor)\n",
    "\n",
    "window.record(ren, n_frames=1, out_path='case2.png', size=(600, 600))"
   ]
  },
  {
   "cell_type": "code",
   "execution_count": 8,
   "metadata": {},
   "outputs": [],
   "source": [
    "mevals = [eval1, eval2]\n",
    "S0 = 1\n",
    "angles = [angle1, angle2]\n",
    "fractions = [50, 50]\n",
    "signal2, st = multi_tensor(gtab, mevals, S0, angles, fractions, snr=None)"
   ]
  },
  {
   "cell_type": "code",
   "execution_count": 9,
   "metadata": {},
   "outputs": [
    {
     "data": {
      "text/plain": [
       "array([1.        , 0.77856723, 0.88973747, 0.88857928, 0.78083523,\n",
       "       0.81638387, 0.8636026 , 0.90165858, 0.75460142, 0.86446751,\n",
       "       0.91065436, 0.93301714, 0.91451103, 0.93189803, 0.92771265,\n",
       "       0.90734162, 0.85756717, 0.77888326, 0.92892692, 0.84449368,\n",
       "       0.90423212, 0.92242338, 0.80387319, 0.92066044, 0.80950624,\n",
       "       0.81472479, 0.87638121, 0.91240333, 0.92954524, 0.75112872,\n",
       "       0.9298683 , 0.85943909, 0.84913602, 0.89070242, 0.61041598,\n",
       "       0.79512336, 0.79269579, 0.61363059, 0.6697392 , 0.75047817,\n",
       "       0.81625987, 0.57438285, 0.74855227, 0.83169391, 0.87279383,\n",
       "       0.83928759, 0.87090499, 0.86254083, 0.82483056, 0.73826129,\n",
       "       0.61142866, 0.86495891, 0.71561963, 0.82025614, 0.85324141,\n",
       "       0.64991642, 0.84945947, 0.65887846, 0.66713358, 0.77056673,\n",
       "       0.83451779, 0.86596608, 0.5693815 , 0.86707346, 0.74175199,\n",
       "       0.72352051, 0.79706086, 0.48218047, 0.71302876, 0.71012879,\n",
       "       0.48609476, 0.55230875, 0.65449575, 0.74170347, 0.4409706 ,\n",
       "       0.65177893, 0.76132354, 0.81856405, 0.77233247, 0.8159427 ,\n",
       "       0.80390712, 0.75224105, 0.63766426, 0.48389172, 0.80724448,\n",
       "       0.60956355, 0.74607829, 0.79110329, 0.52905494, 0.78610998,\n",
       "       0.54016595, 0.54915072, 0.68052962, 0.76557777, 0.80866127,\n",
       "       0.43568207, 0.81069935, 0.64324893, 0.61878879, 0.7154393 ,\n",
       "       0.38355335, 0.64213711, 0.63835489, 0.38756729, 0.45840242,\n",
       "       0.57357005, 0.67604226, 0.34159082, 0.56987115, 0.69916431,\n",
       "       0.76956584, 0.7129875 , 0.76616165, 0.75132731, 0.68793419,\n",
       "       0.5541643 , 0.38592864, 0.75552531, 0.52219683, 0.68111784,\n",
       "       0.7356344 , 0.43352561, 0.72929601, 0.44542137, 0.454806  ,\n",
       "       0.60316319, 0.70428291, 0.75721656, 0.3362136 , 0.75979865,\n",
       "       0.56032419, 0.53228591, 0.64497089, 0.30743655, 0.57967549,\n",
       "       0.57585484, 0.31153666, 0.38253395, 0.50510744, 0.61802063,\n",
       "       0.26672313, 0.50046709, 0.6439326 , 0.72520011, 0.66008839,\n",
       "       0.7213419 , 0.70385605, 0.63136821, 0.48318443, 0.30983285,\n",
       "       0.70880724, 0.44918549, 0.62341712, 0.68574219, 0.35762709,\n",
       "       0.67858191, 0.3696691 , 0.3791706 , 0.53665075, 0.64966069,\n",
       "       0.71068358, 0.26172797, 0.71395671, 0.49011033, 0.45962591,\n",
       "       0.58323991, 0.24807502, 0.52548372, 0.52120389, 0.25174065,\n",
       "       0.32090558, 0.44622567, 0.56707934, 0.20986332, 0.44093393,\n",
       "       0.59483385, 0.68502686, 0.61272588, 0.68080076, 0.66125436,\n",
       "       0.58069835, 0.42308825, 0.25042367, 0.66661485, 0.38824868,\n",
       "       0.57261244, 0.64101471, 0.29662696, 0.6328158 , 0.30868077,\n",
       "       0.31754883, 0.47924999, 0.60119232, 0.66876797, 0.20524071,\n",
       "       0.67252639, 0.43056411, 0.39855244, 0.52872991, 0.20130404,\n",
       "       0.47791388, 0.4735332 , 0.20479071, 0.27097369, 0.39558876,\n",
       "       0.52152566, 0.16626775, 0.39023793, 0.55087032, 0.64858284,\n",
       "       0.5703853 , 0.64395521, 0.62256139, 0.53589085, 0.371917  ,\n",
       "       0.20379276, 0.62843923, 0.33690537, 0.52702309, 0.60077281,\n",
       "       0.2473297 , 0.59195005, 0.25908164, 0.26738915, 0.42951188,\n",
       "       0.55776065, 0.63070303, 0.16204565, 0.63488834, 0.37968123,\n",
       "       0.34748214, 0.48138832, 0.16437077, 0.43589466, 0.43130951,\n",
       "       0.16765544, 0.22959478, 0.35226126, 0.4811888 , 0.13248271,\n",
       "       0.34663498, 0.5115082 , 0.61543252, 0.5322036 , 0.6105023 ,\n",
       "       0.5875098 , 0.49595096, 0.32834482, 0.16665751, 0.5937099 ,\n",
       "       0.29362092, 0.48674527, 0.56415232, 0.20715406, 0.55489587,\n",
       "       0.21829205, 0.22640004, 0.38624019, 0.51873821, 0.59628486,\n",
       "       0.12880739, 0.60082255, 0.33606651, 0.30391343, 0.43948131,\n",
       "       0.13483833, 0.39865634, 0.39389832, 0.13776543, 0.19537387,\n",
       "       0.31470347, 0.44494282, 0.10619173, 0.3088339 , 0.47631118,\n",
       "       0.58524209, 0.49780279, 0.58005718, 0.55563191, 0.45980413,\n",
       "       0.29088845, 0.13699827, 0.56231139, 0.25704443, 0.45074469,\n",
       "       0.53120856, 0.17431364, 0.52151665, 0.18487616, 0.19239905,\n",
       "       0.34843708, 0.48375247, 0.56489163, 0.10290828, 0.5698177 ,\n",
       "       0.29856241, 0.26672692, 0.40238436, 0.11111137, 0.36560396,\n",
       "       0.36098448, 0.11377133, 0.16695268, 0.28206556, 0.41263794,\n",
       "       0.08549258, 0.27611019, 0.44455586, 0.5576805 , 0.46683285,\n",
       "       0.55226504, 0.52665651, 0.42773747, 0.25838679, 0.11310129,\n",
       "       0.53357109, 0.22567119, 0.41834003, 0.5012652 , 0.14743787,\n",
       "       0.49125604, 0.15716343, 0.16412128, 0.3152779 , 0.45213418,\n",
       "       0.53638643, 0.08260312, 0.54156797, 0.26606269, 0.23497565,\n",
       "       0.3693928 , 0.09194348, 0.33626291, 0.33164145, 0.09434922,\n",
       "       0.14322805, 0.25352098, 0.38374327, 0.06913009, 0.24763315,\n",
       "       0.41578378, 0.53248427, 0.43854967, 0.52678817, 0.50014436,\n",
       "       0.39871385, 0.23037696, 0.09375926, 0.50741171, 0.19880711,\n",
       "       0.38930793, 0.47401041, 0.1250532 , 0.46356877, 0.13413236,\n",
       "       0.14063672, 0.28602247, 0.42362079, 0.51026329, 0.06658149,\n",
       "       0.51568939, 0.23781911, 0.20783682, 0.3398765 , 0.07635731,\n",
       "       0.30999924, 0.30540189, 0.07851149, 0.12319053, 0.22843463,\n",
       "       0.3573433 , 0.05610753, 0.22253571, 0.38980736, 0.50936441,\n",
       "       0.41305429, 0.50346206, 0.476006  , 0.37245754, 0.20592594,\n",
       "       0.07801176, 0.48346592, 0.17562503, 0.36306779, 0.44922918,\n",
       "       0.1064413 , 0.43852279, 0.11480145, 0.12081761, 0.26020174,\n",
       "       0.39782963, 0.48635092, 0.05388329, 0.49204039, 0.21320269,\n",
       "       0.18416215, 0.31359285, 0.06358228, 0.28631382, 0.28183714,\n",
       "       0.06549368, 0.10627059, 0.20634071, 0.33375587, 0.04566045,\n",
       "       0.20060131, 0.36610237, 0.48810641, 0.38957856, 0.48204991,\n",
       "       0.45387678, 0.34868605, 0.18447251, 0.06507812, 0.46149588,\n",
       "       0.15555754, 0.33934741, 0.42644093, 0.09089462, 0.41555365,\n",
       "       0.09858246, 0.10406647, 0.23727803, 0.37423639, 0.46449048,\n",
       "       0.04372989, 0.47034143, 0.19158732, 0.16366551, 0.29007326,\n",
       "       0.05307424, 0.26513   , 0.26062032, 0.05480893, 0.09192661,\n",
       "       0.1869169 , 0.31224301, 0.03725556, 0.18120021, 0.34463955,\n",
       "       0.46853616, 0.36831939, 0.46236718, 0.43343003, 0.32697919,\n",
       "       0.16574837, 0.05443996, 0.44128116, 0.13808646, 0.31770973,\n",
       "       0.40553295, 0.07782117, 0.39449914, 0.08482605, 0.08986635,\n",
       "       0.2168496 , 0.35277055, 0.44430095, 0.03557878, 0.45035928,\n",
       "       0.17256144, 0.14575634, 0.26879391, 0.04440206, 0.24592422,\n",
       "       0.2414534 , 0.04594362, 0.07972406, 0.16957241, 0.29259877,\n",
       "       0.03046422, 0.16405224, 0.32500702, 0.4504815 , 0.34879339,\n",
       "       0.44416746, 0.41474719, 0.30732162, 0.1492496 , 0.04563678,\n",
       "       0.42257616, 0.12289097, 0.29807839, 0.38629922, 0.06674905,\n",
       "       0.37513036, 0.07319888, 0.07777767, 0.19857963, 0.3330676 ,\n",
       "       0.42568113, 0.02901061, 0.43193474, 0.155778  , 0.13022637,\n",
       "       0.24955256])"
      ]
     },
     "execution_count": 9,
     "metadata": {},
     "output_type": "execute_result"
    }
   ],
   "source": [
    "signal2"
   ]
  },
  {
   "cell_type": "markdown",
   "metadata": {},
   "source": [
    "# Voxel case 3 (simplistic model of axonal \"degeneration\")"
   ]
  },
  {
   "cell_type": "code",
   "execution_count": 10,
   "metadata": {},
   "outputs": [],
   "source": [
    "eval1 = [1e-3, 0.1e-3, 0.1e-3]\n",
    "eval2 = [2e-3, 0.7e-3, 0.7e-3]\n",
    "angle1 = (130.0, 0.0)\n",
    "angle2 = (130.0, 0.0)\n",
    "stick1 = _check_directions([angle1])\n",
    "stick2 = _check_directions([angle2])\n",
    "evec1 = all_tensor_evecs(stick1[0])\n",
    "evec2 = all_tensor_evecs(stick2[0])"
   ]
  },
  {
   "cell_type": "code",
   "execution_count": 11,
   "metadata": {},
   "outputs": [],
   "source": [
    "colors = np.zeros(evals.shape)\n",
    "colors[0, 0, 0, 2] = 1;  # blue\n",
    "colors[0, 0, 1, 0] = 1;  # orange\n",
    "colors[0, 0, 1, 1] = 0.5;  \n",
    "\n",
    "evals = np.array([[[eval1, eval2]]])\n",
    "evecs =  np.array([[[evec1, evec2]]])\n",
    "\n",
    "ren = window.Renderer()\n",
    "\n",
    "FA = fractional_anisotropy(evals)\n",
    "tensor_actor = actor.tensor_slicer(evals, evecs, scalar_colors=colors, sphere=sphere, scale=1)\n",
    "tensor_actor.display(y=0)\n",
    "tensor_actor.RotateX(90)\n",
    "ren.add(tensor_actor)\n",
    "\n",
    "window.record(ren, n_frames=1, out_path='case3.png', size=(600, 600))"
   ]
  },
  {
   "cell_type": "code",
   "execution_count": 12,
   "metadata": {},
   "outputs": [],
   "source": [
    "mevals = [eval1, eval2]\n",
    "S0 = 1\n",
    "angles = [angle1, angle2]\n",
    "fractions = [30, 70]\n",
    "signal3, st = multi_tensor(gtab, mevals, S0, angles, fractions, snr=None)"
   ]
  },
  {
   "attachments": {},
   "cell_type": "markdown",
   "metadata": {},
   "source": []
  },
  {
   "cell_type": "markdown",
   "metadata": {},
   "source": [
    "# Voxel Case 4 (Crossing Fibers  )¶"
   ]
  },
  {
   "cell_type": "code",
   "execution_count": 13,
   "metadata": {},
   "outputs": [],
   "source": [
    "eval1 = [1e-3, 0.1e-3, 0.1e-3]\n",
    "eval2 = [2e-3, 0.6e-3, 0.6e-3]\n",
    "eval3 = [1e-3, 0.1e-3, 0.1e-3]\n",
    "eval4 = [2e-3, 0.6e-3, 0.6e-3]\n",
    "angle1 = (30.0, 0.0)\n",
    "angle2 = (30.0, 0.0)\n",
    "angle3 = (150.0, 0.0)\n",
    "angle4 = (150.0, 0.0)\n",
    "stick1 = _check_directions([angle1])\n",
    "stick2 = _check_directions([angle2])\n",
    "stick3 = _check_directions([angle3])\n",
    "stick4 = _check_directions([angle4])\n",
    "evec1 = all_tensor_evecs(stick1[0])\n",
    "evec2 = all_tensor_evecs(stick2[0])\n",
    "evec3 = all_tensor_evecs(stick3[0])\n",
    "evec4 = all_tensor_evecs(stick4[0])"
   ]
  },
  {
   "cell_type": "code",
   "execution_count": 14,
   "metadata": {},
   "outputs": [],
   "source": [
    "evals = np.array([np.array([[eval1, eval2]]),\n",
    "                   np.array([[eval3, eval4]])])\n",
    "angle = [(40.0, 0.0), (140.0, 0.0)]\n",
    "stick = _check_directions(angle)\n",
    "evecs =  np.array([[[evec1, evec2]],\n",
    "                   [[evec3, evec4]]])\n",
    "\n",
    "colors = np.zeros(evals.shape)\n",
    "\n",
    "colors[0, 0, 0, 2] = 1;  #Blue\n",
    "\n",
    "colors[0, 0, 1, 0] = 1;  #Yellow\n",
    "colors[0, 0, 1, 1] = 1;\n",
    "\n",
    "colors[1, 0, 0, 2] = 1;  #Blue\n",
    "\n",
    "colors[1, 0, 1, 0] = 1;  #Yellow\n",
    "colors[1, 0, 1, 1] = 1;\n",
    "\n",
    "ren = window.Renderer()\n",
    "\n",
    "tensor_actor = actor.tensor_slicer(evals, evecs, scalar_colors=colors, sphere=sphere, scale=0.8)\n",
    "tensor_actor.display(y=0)\n",
    "tensor_actor.RotateX(90)\n",
    "ren.add(tensor_actor)\n",
    "\n",
    "window.record(ren, n_frames=1, out_path='case4.png', size=(600, 600))"
   ]
  },
  {
   "cell_type": "code",
   "execution_count": 15,
   "metadata": {},
   "outputs": [],
   "source": [
    "mevals = [eval1, eval2, eval3, eval4]\n",
    "S0 = 1\n",
    "angles = [angle1, angle2, angle3, angle4]\n",
    "fractions = [25.0, 25.0, 25.0, 25.0]\n",
    "signal4, st = multi_tensor(gtab, mevals, S0, angles, fractions, snr=None)"
   ]
  },
  {
   "cell_type": "markdown",
   "metadata": {},
   "source": [
    "# Process DKI metrics"
   ]
  },
  {
   "cell_type": "code",
   "execution_count": 16,
   "metadata": {},
   "outputs": [],
   "source": [
    "dwi = np.zeros((4,) + gtab.bvals.shape)\n",
    "dwi[0, :] = signal1\n",
    "dwi[1, :] = signal2\n",
    "dwi[2, :] = signal3\n",
    "dwi[3, :] = signal4"
   ]
  },
  {
   "cell_type": "markdown",
   "metadata": {},
   "source": [
    "Define reconstruction models"
   ]
  },
  {
   "cell_type": "code",
   "execution_count": 17,
   "metadata": {},
   "outputs": [],
   "source": [
    "dki_model = dki.DiffusionKurtosisModel(gtab, fit_method='NLS')\n",
    "dki_fit = dki_model.fit(dwi)\n",
    "fa = dki_fit.fa\n",
    "md = dki_fit.md\n",
    "rd = dki_fit.rd\n",
    "ad = dki_fit.ad\n",
    "mk = dki_fit.mk()\n",
    "rk = dki_fit.rk()\n",
    "ak = dki_fit.ak()\n",
    "mkt = dki_fit.mkt()\n",
    "kfa = dki_fit.kfa\n",
    "\n",
    "msdki_model = msdki.MeanDiffusionKurtosisModel(gtab)\n",
    "msdki_fit = msdki_model.fit(dwi)\n",
    "msk = msdki_fit.msk"
   ]
  },
  {
   "cell_type": "code",
   "execution_count": 18,
   "metadata": {},
   "outputs": [
    {
     "data": {
      "image/png": "[encoded data removed]",
      "text/plain": [
       "<Figure size 864x576 with 12 Axes>"
      ]
     },
     "metadata": {
      "needs_background": "light"
     },
     "output_type": "display_data"
    }
   ],
   "source": [
    "cases = [1, 2, 3, 4]\n",
    "\n",
    "fig, axs = plt.subplots(nrows=3, ncols=4, figsize=(12, 8))\n",
    "fig.subplots_adjust(hspace=0.4, wspace=0.3)\n",
    "\n",
    "axs[0, 0].bar(cases, md, linewidth=1.0, color=[0.0, 0.0, 0.8])\n",
    "axs[0, 0].set_title('B.1) MD ($\\mu m^2/ms$)')\n",
    "axs[0, 1].bar(cases, rd, linewidth=1.0, color=[0.0, 0.0, 0.4])\n",
    "axs[0, 1].set_title('B.2) RD ($\\mu m^2/ms$)')\n",
    "axs[0, 2].bar(cases, ad, linewidth=1.0, color=[0.0, 0.8, 0.8])\n",
    "axs[0, 2].set_title('B.3) AD ($\\mu m^2/ms$)')\n",
    "axs[0, 3].bar(cases, fa, linewidth=1.0, color=[1.0, 0.0, 0.0])\n",
    "axs[0, 3].set_title('B.4) FA')\n",
    "\n",
    "axs[1, 0].bar(cases, mk, linewidth=1.0, color=[0.0, 0.8, 0.0])\n",
    "axs[1, 0].set_title('B.5) MK')\n",
    "axs[1, 1].bar(cases, rk, linewidth=1.0, color=[0.0, 0.5, 0.0])\n",
    "axs[1, 1].set_title('B.6) RK')\n",
    "axs[1, 2].bar(cases, ak, linewidth=1.0, color=[0.8, 0.8, 0.0])\n",
    "axs[1, 2].set_title('B.7) AK')\n",
    "axs[1, 3].bar(cases, kfa, linewidth=1.0, color=[1.0, 0.0, 0.5])\n",
    "axs[1, 3].set_title('B.8) KFA')\n",
    "\n",
    "axs[2, 1].bar(cases, mkt, linewidth=1.0, color=[1.0, 0.5, 0.0])\n",
    "axs[2, 1].set_title('B.9) MKT')\n",
    "axs[2, 2].bar(cases, msk, linewidth=1.0, color=[0.2, 0.0, 0.4])\n",
    "axs[2, 2].set_title('B.10) MSK')\n",
    "\n",
    "for ii in range(3):\n",
    "    for jj in range(4):\n",
    "        axs[ii, jj].set_xticks(cases)\n",
    "        axs[ii, jj].set_xticklabels(['C1', 'C2', 'C3', 'C4'])\n",
    "axs[2, 0].axis('off')\n",
    "axs[2, 3].axis('off')\n",
    "        \n",
    "fig.savefig('DKImetrics.png', bbox_inches='tight')"
   ]
  },
  {
   "cell_type": "code",
   "execution_count": null,
   "metadata": {},
   "outputs": [],
   "source": []
  },
  {
   "cell_type": "code",
   "execution_count": null,
   "metadata": {},
   "outputs": [],
   "source": []
  },
  {
   "cell_type": "code",
   "execution_count": null,
   "metadata": {},
   "outputs": [],
   "source": []
  },
  {
   "cell_type": "code",
   "execution_count": null,
   "metadata": {},
   "outputs": [],
   "source": []
  },
  {
   "cell_type": "code",
   "execution_count": null,
   "metadata": {},
   "outputs": [],
   "source": []
  },
  {
   "cell_type": "code",
   "execution_count": null,
   "metadata": {},
   "outputs": [],
   "source": []
  },
  {
   "cell_type": "code",
   "execution_count": null,
   "metadata": {},
   "outputs": [],
   "source": []
  }
 ],
 "metadata": {
  "kernelspec": {
   "display_name": "Python 3",
   "language": "python",
   "name": "python3"
  },
  "language_info": {
   "codemirror_mode": {
    "name": "ipython",
    "version": 3
   },
   "file_extension": ".py",
   "mimetype": "text/x-python",
   "name": "python",
   "nbconvert_exporter": "python",
   "pygments_lexer": "ipython3",
   "version": "3.6.8"
  }
 },
 "nbformat": 4,
 "nbformat_minor": 2
}
